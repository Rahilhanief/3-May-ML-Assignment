{
 "cells": [
  {
   "cell_type": "code",
   "execution_count": 1,
   "id": "a1b13392-74a2-46ff-83f0-987caa2933fa",
   "metadata": {},
   "outputs": [
    {
     "data": {
      "text/plain": [
       "'\\nFeature selection plays an important role when it comes to improve outlier detection in terms of identifying noisy data\\nthat contain irrelevant or redundant features.\\nState-of-the-art work either focuses on unsupervised feature selection for data streams or (offline) outlier detection.\\n'"
      ]
     },
     "execution_count": 1,
     "metadata": {},
     "output_type": "execute_result"
    }
   ],
   "source": [
    "## Q No. 1 :\n",
    "\"\"\"\n",
    "Feature selection plays an important role when it comes to improve outlier detection in terms of identifying noisy data\n",
    "that contain irrelevant or redundant features.\n",
    "State-of-the-art work either focuses on unsupervised feature selection for data streams or (offline) outlier detection.\n",
    "\"\"\""
   ]
  },
  {
   "cell_type": "code",
   "execution_count": 4,
   "id": "90a740e9-eff9-41d0-bd4c-5cf3fa09deea",
   "metadata": {},
   "outputs": [
    {
     "data": {
      "text/plain": [
       "'\\nBeyond accuracy, the most commonly used metrics when evaluating anomaly detection solutions are F1, Precision and Recall.\\nIn this scenario the metric values would be:\\nRecall: 6 / (6 + 9) = 0.4.\\nPrecision: 6 / (6 + 4) = 0.6.\\nF1 Score: 2 * (0.4 * 0.6) / (0.4 + 0.6) = 0.48.\\n'"
      ]
     },
     "execution_count": 4,
     "metadata": {},
     "output_type": "execute_result"
    }
   ],
   "source": [
    "## Q No. 2 :\n",
    "\"\"\"\n",
    "Beyond accuracy, the most commonly used metrics when evaluating anomaly detection solutions are F1, Precision and Recall.\n",
    "In this scenario the metric values would be:\n",
    "Recall: 6 / (6 + 9) = 0.4.\n",
    "Precision: 6 / (6 + 4) = 0.6.\n",
    "F1 Score: 2 * (0.4 * 0.6) / (0.4 + 0.6) = 0.48.\n",
    "\"\"\""
   ]
  },
  {
   "cell_type": "code",
   "execution_count": 5,
   "id": "e4cc8710-2e5b-4680-92d3-47a298c99c71",
   "metadata": {},
   "outputs": [
    {
     "data": {
      "text/plain": [
       "\"\\nDBSCAN is a density-based clustering algorithm that works on the assumption that clusters are dense\\nregions in space separated by regions of lower density. \\nIt groups 'densely grouped' data points into a single cluster.\\n\""
      ]
     },
     "execution_count": 5,
     "metadata": {},
     "output_type": "execute_result"
    }
   ],
   "source": [
    "## Q No. 3 :\n",
    "\"\"\"\n",
    "DBSCAN is a density-based clustering algorithm that works on the assumption that clusters are dense\n",
    "regions in space separated by regions of lower density. \n",
    "It groups 'densely grouped' data points into a single cluster.\n",
    "\"\"\""
   ]
  },
  {
   "cell_type": "code",
   "execution_count": 6,
   "id": "df5a0e9f-0564-408f-ba99-9bb431762b1a",
   "metadata": {},
   "outputs": [
    {
     "data": {
      "text/plain": [
       "'\\nIt is the distance that DBSCAN uses to determine if two points are similar and belong together. \\nA larger epsilon will produce broader clusters (encompassing more data points) and a smaller epsilon \\nwill build smaller clusters.\\n'"
      ]
     },
     "execution_count": 6,
     "metadata": {},
     "output_type": "execute_result"
    }
   ],
   "source": [
    "## QNo. 4 :\n",
    "\"\"\"\n",
    "It is the distance that DBSCAN uses to determine if two points are similar and belong together. \n",
    "A larger epsilon will produce broader clusters (encompassing more data points) and a smaller epsilon \n",
    "will build smaller clusters.\n",
    "\"\"\""
   ]
  },
  {
   "cell_type": "code",
   "execution_count": 8,
   "id": "0d35f141-16b0-4ab9-9424-ebeabe21fbb1",
   "metadata": {},
   "outputs": [
    {
     "data": {
      "text/plain": [
       "'\\nThe Core Points, as the name suggests, lie usually within the interior of a cluster. \\nA Border Point has fewer than MinPts within its ϵ-neighborhood (N), but it lies in the neighborhood of another core point. \\nNoise is any data point that is neither core nor border point.\\n'"
      ]
     },
     "execution_count": 8,
     "metadata": {},
     "output_type": "execute_result"
    }
   ],
   "source": [
    "## Q No. 5 :\n",
    "\"\"\"\n",
    "The Core Points, as the name suggests, lie usually within the interior of a cluster. \n",
    "A Border Point has fewer than MinPts within its ϵ-neighborhood (N), but it lies in the neighborhood of another core point. \n",
    "Noise is any data point that is neither core nor border point.\n",
    "\"\"\""
   ]
  },
  {
   "cell_type": "code",
   "execution_count": 9,
   "id": "b896106c-8112-450b-ad0d-ec988cc51ffd",
   "metadata": {},
   "outputs": [
    {
     "data": {
      "text/plain": [
       "'\\nDBSCAN algorithm\\nDBSCAN stands for density-based spatial clustering of applications with noise. \\nIt is able to find arbitrary shaped clusters and clusters with noise (i.e. outliers).\\n\\nThe main idea behind DBSCAN is that a point belongs to a cluster if it is close to many points from that cluster.\\n\\nThere are two key parameters of DBSCAN:\\n\\neps: The distance that specifies the neighborhoods. Two points are considered to be neighbors if the distance between \\nthem are less than or equal to eps.\\nminPts: Minimum number of data points to define a cluster.\\nBased on these two parameters, points are classified as core point, border point, or outlier:\\n\\nCore point: A point is a core point if there are at least minPts number of points (including the point itself) in\\nits surrounding area with radius eps.\\nBorder point: A point is a border point if it is reachable from a core point and there are less than minPts number\\nof points within its surrounding area.\\nOutlier: A point is an outlier if it is not a core point and not reachable from any core points.\\n'"
      ]
     },
     "execution_count": 9,
     "metadata": {},
     "output_type": "execute_result"
    }
   ],
   "source": [
    "## Q No. 6 :\n",
    "\"\"\"\n",
    "DBSCAN algorithm\n",
    "DBSCAN stands for density-based spatial clustering of applications with noise. \n",
    "It is able to find arbitrary shaped clusters and clusters with noise (i.e. outliers).\n",
    "\n",
    "The main idea behind DBSCAN is that a point belongs to a cluster if it is close to many points from that cluster.\n",
    "\n",
    "There are two key parameters of DBSCAN:\n",
    "\n",
    "eps: The distance that specifies the neighborhoods. Two points are considered to be neighbors if the distance between \n",
    "them are less than or equal to eps.\n",
    "minPts: Minimum number of data points to define a cluster.\n",
    "Based on these two parameters, points are classified as core point, border point, or outlier:\n",
    "\n",
    "Core point: A point is a core point if there are at least minPts number of points (including the point itself) in\n",
    "its surrounding area with radius eps.\n",
    "Border point: A point is a border point if it is reachable from a core point and there are less than minPts number\n",
    "of points within its surrounding area.\n",
    "Outlier: A point is an outlier if it is not a core point and not reachable from any core points.\n",
    "\"\"\""
   ]
  },
  {
   "cell_type": "code",
   "execution_count": 10,
   "id": "b87545e4-d8bc-446b-84f9-5c239225db96",
   "metadata": {},
   "outputs": [
    {
     "data": {
      "text/plain": [
       "'\\nMake a large circle containing a smaller circle in 2d. \\nA simple toy dataset to visualize clustering and classification algorithms\\n'"
      ]
     },
     "execution_count": 10,
     "metadata": {},
     "output_type": "execute_result"
    }
   ],
   "source": [
    "## Q No. 7 :\n",
    "\"\"\"\n",
    "Make a large circle containing a smaller circle in 2d. \n",
    "A simple toy dataset to visualize clustering and classification algorithms\n",
    "\"\"\""
   ]
  },
  {
   "cell_type": "code",
   "execution_count": 11,
   "id": "a570c1e3-ef4d-424a-8921-e673665b9588",
   "metadata": {},
   "outputs": [
    {
     "data": {
      "text/plain": [
       "'\\nThere are two general types of outlier detection: global and local.\\nGlobal outliers fall outside the normal range for an entire dataset, whereas local outliers may fall within \\nthe normal range for the entire dataset, but outside the normal range for the surrounding data points.\\n'"
      ]
     },
     "execution_count": 11,
     "metadata": {},
     "output_type": "execute_result"
    }
   ],
   "source": [
    "## Q No. 8 \"\n",
    "\"\"\"\n",
    "There are two general types of outlier detection: global and local.\n",
    "Global outliers fall outside the normal range for an entire dataset, whereas local outliers may fall within \n",
    "the normal range for the entire dataset, but outside the normal range for the surrounding data points.\n",
    "\"\"\""
   ]
  },
  {
   "cell_type": "code",
   "execution_count": 12,
   "id": "36a50468-c577-4d62-a696-fc878218b740",
   "metadata": {},
   "outputs": [
    {
     "data": {
      "text/plain": [
       "'\\nThe Local Outlier Factor (LOF) algorithm is an unsupervised anomaly detection method which computes\\nthe local density deviation of a given data point with respect to its neighbors. \\nIt considers as outliers the samples that have a substantially lower density than their neighbors.\\n'"
      ]
     },
     "execution_count": 12,
     "metadata": {},
     "output_type": "execute_result"
    }
   ],
   "source": [
    "## Q no. 9 :\n",
    "\"\"\"\n",
    "The Local Outlier Factor (LOF) algorithm is an unsupervised anomaly detection method which computes\n",
    "the local density deviation of a given data point with respect to its neighbors. \n",
    "It considers as outliers the samples that have a substantially lower density than their neighbors.\n",
    "\"\"\""
   ]
  },
  {
   "cell_type": "code",
   "execution_count": 13,
   "id": "44b025ad-f903-48fa-beeb-8030823a0589",
   "metadata": {},
   "outputs": [
    {
     "data": {
      "text/plain": [
       "'\\nIsolation Forest is a model-based outlier detection method that attempts to isolate anomalies from the \\nrest of the data using an ensemble of decision trees. It does not rely on training a model on labelled data.\\nThis method selects a feature and makes a random split in the data between the minimum and maximum values.\\n'"
      ]
     },
     "execution_count": 13,
     "metadata": {},
     "output_type": "execute_result"
    }
   ],
   "source": [
    "## Q No. 10 :\n",
    "\"\"\"\n",
    "Isolation Forest is a model-based outlier detection method that attempts to isolate anomalies from the \n",
    "rest of the data using an ensemble of decision trees. It does not rely on training a model on labelled data.\n",
    "This method selects a feature and makes a random split in the data between the minimum and maximum values.\n",
    "\"\"\""
   ]
  },
  {
   "cell_type": "code",
   "execution_count": 1,
   "id": "93858b4a-039c-41e0-8f14-68e2bf8da97e",
   "metadata": {},
   "outputs": [
    {
     "data": {
      "text/plain": [
       "'\\nThink of it this way: A fist-size meteorite impacting a house in your neighborhood is a global outlier because \\nit\\'s a truly rare event that meteorites hit buildings.\\n\\nFor example, a point at a \"small\" distance to a very dense cluster is an outlier, while a point within \\na sparse cluster might exhibit similar distances to its neighbors.\\n'"
      ]
     },
     "execution_count": 1,
     "metadata": {},
     "output_type": "execute_result"
    }
   ],
   "source": [
    "## Q No. 11 :\n",
    "\"\"\"\n",
    "Think of it this way: A fist-size meteorite impacting a house in your neighborhood is a global outlier because \n",
    "it's a truly rare event that meteorites hit buildings.\n",
    "\n",
    "For example, a point at a \"small\" distance to a very dense cluster is an outlier, while a point within \n",
    "a sparse cluster might exhibit similar distances to its neighbors.\n",
    "\"\"\""
   ]
  }
 ],
 "metadata": {
  "kernelspec": {
   "display_name": "Python 3 (ipykernel)",
   "language": "python",
   "name": "python3"
  },
  "language_info": {
   "codemirror_mode": {
    "name": "ipython",
    "version": 3
   },
   "file_extension": ".py",
   "mimetype": "text/x-python",
   "name": "python",
   "nbconvert_exporter": "python",
   "pygments_lexer": "ipython3",
   "version": "3.10.8"
  }
 },
 "nbformat": 4,
 "nbformat_minor": 5
}
